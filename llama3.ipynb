{
 "cells": [
  {
   "cell_type": "code",
   "execution_count": 28,
   "metadata": {},
   "outputs": [
    {
     "name": "stdout",
     "output_type": "stream",
     "text": [
      "Requirement already satisfied: langchain in ./.venv/lib/python3.10/site-packages (0.1.19)\n",
      "Requirement already satisfied: PyYAML>=5.3 in ./.venv/lib/python3.10/site-packages (from langchain) (6.0.1)\n",
      "Requirement already satisfied: SQLAlchemy<3,>=1.4 in ./.venv/lib/python3.10/site-packages (from langchain) (2.0.30)\n",
      "Requirement already satisfied: aiohttp<4.0.0,>=3.8.3 in ./.venv/lib/python3.10/site-packages (from langchain) (3.9.5)\n",
      "Requirement already satisfied: async-timeout<5.0.0,>=4.0.0 in ./.venv/lib/python3.10/site-packages (from langchain) (4.0.3)\n",
      "Requirement already satisfied: dataclasses-json<0.7,>=0.5.7 in ./.venv/lib/python3.10/site-packages (from langchain) (0.6.5)\n",
      "Requirement already satisfied: langchain-community<0.1,>=0.0.38 in ./.venv/lib/python3.10/site-packages (from langchain) (0.0.38)\n",
      "Requirement already satisfied: langchain-core<0.2.0,>=0.1.52 in ./.venv/lib/python3.10/site-packages (from langchain) (0.1.52)\n",
      "Requirement already satisfied: langchain-text-splitters<0.1,>=0.0.1 in ./.venv/lib/python3.10/site-packages (from langchain) (0.0.1)\n",
      "Requirement already satisfied: langsmith<0.2.0,>=0.1.17 in ./.venv/lib/python3.10/site-packages (from langchain) (0.1.56)\n",
      "Requirement already satisfied: numpy<2,>=1 in ./.venv/lib/python3.10/site-packages (from langchain) (1.26.4)\n",
      "Requirement already satisfied: pydantic<3,>=1 in ./.venv/lib/python3.10/site-packages (from langchain) (2.7.1)\n",
      "Requirement already satisfied: requests<3,>=2 in ./.venv/lib/python3.10/site-packages (from langchain) (2.31.0)\n",
      "Requirement already satisfied: tenacity<9.0.0,>=8.1.0 in ./.venv/lib/python3.10/site-packages (from langchain) (8.3.0)\n",
      "Requirement already satisfied: aiosignal>=1.1.2 in ./.venv/lib/python3.10/site-packages (from aiohttp<4.0.0,>=3.8.3->langchain) (1.3.1)\n",
      "Requirement already satisfied: attrs>=17.3.0 in ./.venv/lib/python3.10/site-packages (from aiohttp<4.0.0,>=3.8.3->langchain) (23.2.0)\n",
      "Requirement already satisfied: frozenlist>=1.1.1 in ./.venv/lib/python3.10/site-packages (from aiohttp<4.0.0,>=3.8.3->langchain) (1.4.1)\n",
      "Requirement already satisfied: multidict<7.0,>=4.5 in ./.venv/lib/python3.10/site-packages (from aiohttp<4.0.0,>=3.8.3->langchain) (6.0.5)\n",
      "Requirement already satisfied: yarl<2.0,>=1.0 in ./.venv/lib/python3.10/site-packages (from aiohttp<4.0.0,>=3.8.3->langchain) (1.9.4)\n",
      "Requirement already satisfied: marshmallow<4.0.0,>=3.18.0 in ./.venv/lib/python3.10/site-packages (from dataclasses-json<0.7,>=0.5.7->langchain) (3.21.2)\n",
      "Requirement already satisfied: typing-inspect<1,>=0.4.0 in ./.venv/lib/python3.10/site-packages (from dataclasses-json<0.7,>=0.5.7->langchain) (0.9.0)\n",
      "Requirement already satisfied: jsonpatch<2.0,>=1.33 in ./.venv/lib/python3.10/site-packages (from langchain-core<0.2.0,>=0.1.52->langchain) (1.33)\n",
      "Requirement already satisfied: packaging<24.0,>=23.2 in ./.venv/lib/python3.10/site-packages (from langchain-core<0.2.0,>=0.1.52->langchain) (23.2)\n",
      "Requirement already satisfied: orjson<4.0.0,>=3.9.14 in ./.venv/lib/python3.10/site-packages (from langsmith<0.2.0,>=0.1.17->langchain) (3.10.3)\n",
      "Requirement already satisfied: annotated-types>=0.4.0 in ./.venv/lib/python3.10/site-packages (from pydantic<3,>=1->langchain) (0.6.0)\n",
      "Requirement already satisfied: pydantic-core==2.18.2 in ./.venv/lib/python3.10/site-packages (from pydantic<3,>=1->langchain) (2.18.2)\n",
      "Requirement already satisfied: typing-extensions>=4.6.1 in ./.venv/lib/python3.10/site-packages (from pydantic<3,>=1->langchain) (4.11.0)\n",
      "Requirement already satisfied: charset-normalizer<4,>=2 in ./.venv/lib/python3.10/site-packages (from requests<3,>=2->langchain) (3.3.2)\n",
      "Requirement already satisfied: idna<4,>=2.5 in ./.venv/lib/python3.10/site-packages (from requests<3,>=2->langchain) (3.7)\n",
      "Requirement already satisfied: urllib3<3,>=1.21.1 in ./.venv/lib/python3.10/site-packages (from requests<3,>=2->langchain) (2.2.1)\n",
      "Requirement already satisfied: certifi>=2017.4.17 in ./.venv/lib/python3.10/site-packages (from requests<3,>=2->langchain) (2024.2.2)\n",
      "Requirement already satisfied: jsonpointer>=1.9 in ./.venv/lib/python3.10/site-packages (from jsonpatch<2.0,>=1.33->langchain-core<0.2.0,>=0.1.52->langchain) (2.4)\n",
      "Requirement already satisfied: mypy-extensions>=0.3.0 in ./.venv/lib/python3.10/site-packages (from typing-inspect<1,>=0.4.0->dataclasses-json<0.7,>=0.5.7->langchain) (1.0.0)\n",
      "Note: you may need to restart the kernel to use updated packages.\n"
     ]
    }
   ],
   "source": [
    "%pip install langchain"
   ]
  },
  {
   "cell_type": "code",
   "execution_count": 29,
   "metadata": {},
   "outputs": [],
   "source": [
    "# files paths\n",
    "path_artifact   = \"data/raw/flask.py\"\n",
    "path_processed  = \"data/processed/flask.py\"\n",
    "path_generated  = \"data/results/llama3.md\"\n",
    "\n",
    "# model definition\n",
    "model = \"llama3\""
   ]
  },
  {
   "cell_type": "markdown",
   "metadata": {},
   "source": [
    "# Documentation Generation with Llama3\n",
    "\n",
    "Requires: Ollama running with model: llama3:7b pulled from registry"
   ]
  },
  {
   "cell_type": "code",
   "execution_count": 30,
   "metadata": {},
   "outputs": [],
   "source": [
    "from langchain_community.llms import Ollama\n",
    "from langchain_core.prompts import ChatPromptTemplate\n",
    "from langchain_core.output_parsers import StrOutputParser"
   ]
  },
  {
   "cell_type": "code",
   "execution_count": 31,
   "metadata": {},
   "outputs": [],
   "source": [
    "system_prompt = \"\"\"\n",
    "You are a world class technical documentation writer.\"),\n",
    "\"\"\""
   ]
  },
  {
   "cell_type": "code",
   "execution_count": 32,
   "metadata": {},
   "outputs": [],
   "source": [
    "llm = Ollama(model=model)\n",
    "output_parser = StrOutputParser()\n",
    "prompt = ChatPromptTemplate.from_messages([\n",
    "    (\"system\", system_prompt),\n",
    "    (\"user\", \"{input}\")\n",
    "])"
   ]
  },
  {
   "cell_type": "code",
   "execution_count": 33,
   "metadata": {},
   "outputs": [],
   "source": [
    "chain = prompt | llm | output_parser"
   ]
  },
  {
   "cell_type": "code",
   "execution_count": 34,
   "metadata": {},
   "outputs": [
    {
     "data": {
      "text/plain": [
       "'**Python Classes Documentation**\\n\\n### Overview\\n\\nThis document provides detailed information on the Python classes used in our project. The purpose of this document is to serve as a comprehensive guide for developers, technical writers, and other stakeholders who need to understand the functionality and usage of these classes.\\n\\n### Class 1: `MyClass`\\n\\n#### Description\\n\\n`MyClass` is a simple class that demonstrates basic object-oriented programming (OOP) concepts. It has two attributes (`x` and `y`) and one method (`calculate_area()`).\\n\\n#### Attributes:\\n\\n* `x`: An integer attribute representing the x-coordinate of a point.\\n* `y`: An integer attribute representing the y-coordinate of a point.\\n\\n#### Methods:\\n\\n* `calculate_area()`: A method that calculates the area of a rectangle given its width (x) and height (y). The method returns the calculated area as an integer value.\\n\\n**Example Usage:**\\n\\n```\\nmy_object = MyClass(3, 4)\\nprint(my_object.calculate_area())  # Output: 12\\n```\\n\\n### Class 2: `MyMathClass`\\n\\n#### Description\\n\\n`MyMathClass` is a utility class that provides various mathematical functions for performing common calculations. It has three methods (`add_numbers()`, `subtract_numbers()`, and `multiply_numbers()`).\\n\\n#### Methods:\\n\\n* `add_numbers(a, b)`: A method that adds two numbers (a and b) and returns the result.\\n* `subtract_numbers(a, b)`: A method that subtracts one number (b) from another (a) and returns the result.\\n* `multiply_numbers(a, b)`: A method that multiplies two numbers (a and b) and returns the result.\\n\\n**Example Usage:**\\n\\n```\\nmath_object = MyMathClass()\\nprint(math_object.add_numbers(2, 3))  # Output: 5\\nprint(math_object.subtract_numbers(5, 2))  # Output: 3\\nprint(math_object.multiply_numbers(4, 5))  # Output: 20\\n```\\n\\n### Class 3: `MyDataClass`\\n\\n#### Description\\n\\n`MyDataClass` is a data storage class that provides a simple way to store and retrieve key-value pairs. It has two methods (`set_data()` and `get_data()`).\\n\\n#### Methods:\\n\\n* `set_data(key, value)`: A method that sets a key-value pair in the data storage.\\n* `get_data(key)`: A method that retrieves the value associated with a given key.\\n\\n**Example Usage:**\\n\\n```\\ndata_object = MyDataClass()\\ndata_object.set_data(\"name\", \"John\")\\nprint(data_object.get_data(\"name\"))  # Output: John\\n```\\n\\n### Conclusion\\n\\nThese three Python classes demonstrate basic OOP concepts and provide examples of how they can be used in a real-world scenario. The documentation provides detailed information on each class\\'s attributes, methods, and usage.\\n\\n**Additional Resources**\\n\\nFor further information or clarification, please refer to the following resources:\\n\\n* [Python Documentation](https://docs.python.org/3/) for general Python language information.\\n* [Python Class Documentation](https://docs.python.org/3/library/classes.html) for detailed information on Python classes.\\n* [Our Project Wiki](https://ourprojectwiki.com/) for project-specific documentation and guidelines.\\n\\n**Acknowledgments**\\n\\nWe would like to acknowledge the contributions of our team members who helped in writing this documentation. Their dedication and expertise have made this document possible.\\n\\n**Disclaimer**\\n\\nThis documentation is provided \"as-is\" without warranty or guarantee of any kind. The authors are not responsible for any damage or loss caused by using the information presented in this document.'"
      ]
     },
     "execution_count": 34,
     "metadata": {},
     "output_type": "execute_result"
    }
   ],
   "source": [
    "chain.invoke({\"input\": \"Provide me with some documentation for python classes\"})"
   ]
  }
 ],
 "metadata": {
  "kernelspec": {
   "display_name": ".venv",
   "language": "python",
   "name": "python3"
  },
  "language_info": {
   "codemirror_mode": {
    "name": "ipython",
    "version": 3
   },
   "file_extension": ".py",
   "mimetype": "text/x-python",
   "name": "python",
   "nbconvert_exporter": "python",
   "pygments_lexer": "ipython3",
   "version": "3.10.0"
  }
 },
 "nbformat": 4,
 "nbformat_minor": 2
}
